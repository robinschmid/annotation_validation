{
 "cells": [
  {
   "cell_type": "code",
   "execution_count": 15,
   "id": "initial_id",
   "metadata": {
    "collapsed": true,
    "ExecuteTime": {
     "end_time": "2023-10-31T09:37:37.849439700Z",
     "start_time": "2023-10-31T09:37:37.835544400Z"
    }
   },
   "outputs": [],
   "source": [
    "import pandas as pd\n",
    "from utils import pandas_utils as pu"
   ]
  },
  {
   "cell_type": "code",
   "execution_count": 20,
   "outputs": [
    {
     "data": {
      "text/plain": "      monoisotopic_mass      formula  \\\n0            354.194343   C21H26N2O3   \n1            354.194343   C21H26N2O3   \n2            370.105253     C20H18O7   \n3            386.136553     C21H22O7   \n4            717.329333  C28H47N9O13   \n...                 ...          ...   \n4381         248.141244     C15H20O3   \n4382         250.156895     C15H22O3   \n4383         290.260966      C20H34O   \n4384         320.162374     C18H24O5   \n4385         336.230060     C20H32O4   \n\n                                       canonical_smiles  \\\n0        COC(=O)C1C(O)CCC2CN3CCc4c([nH]c5ccccc45)C3CC21   \n1        COC(=O)C1C(O)CCC2CN3CCc4c([nH]c5ccccc45)C3CC21   \n2         OC12COC(c3cc4c(cc3)OCO4)C1COC2c1cc2c(cc1)OCO2   \n3     CC=C(C)C(=O)OC1C(OC(C)=O)c2c3oc(=O)ccc3ccc2OC1...   \n4     CC(=O)N(O)CCCC1NC(=O)CNC(=O)C(CO)NC(=O)CNC(=O)...   \n...                                                 ...   \n4381                  C=C1C(=O)OC2C1CCC(C)=CCCC1(C)OC21   \n4382                 C=C(C(=O)O)C1CC=C(CCC(C)=O)C(C)CC1   \n4383                C=C1CCC2C(C)(C)CCCC2(C)C1CCC(C)=CCO   \n4384      C=C1C(OC(C)=O)CCC2(C)CC3(OC)OC(=O)C(C)=C3CC12   \n4385       C=CC(C)(O)CCC=C(C)COC(=O)C(C)C1CCC(C)(C=C)O1   \n\n                                        isomeric_smiles  \\\n0        COC(=O)C1C(O)CCC2CN3CCc4c([nH]c5ccccc45)C3CC21   \n1        COC(=O)C1C(O)CCC2CN3CCc4c([nH]c5ccccc45)C3CC21   \n2     O[C@]12CO[C@H](c3cc4c(cc3)OCO4)[C@H]1CO[C@@H]2...   \n3     C/C=C(/C)C(=O)O[C@H]1[C@@H](OC(C)=O)c2c3oc(=O)...   \n4     CC(=O)N(O)CCCC1NC(=O)CNC(=O)C(CO)NC(=O)CNC(=O)...   \n...                                                 ...   \n4381  C=C1C(=O)O[C@H]2[C@H]1CC/C(C)=C/CC[C@@]1(C)O[C...   \n4382       C=C(C(=O)O)[C@@H]1CC=C(CCC(C)=O)[C@@H](C)CC1   \n4383              C=C1CCC2C(C)(C)CCCC2(C)C1CC/C(C)=C\\CO   \n4384      C=C1C(OC(C)=O)CCC2(C)CC3(OC)OC(=O)C(C)=C3CC12   \n4385     C=CC(C)(O)CC/C=C(/C)COC(=O)C(C)C1CCC(C)(C=C)O1   \n\n                                                 smiles  \\\n0        COC(=O)C1C(O)CCC2CN3CCc4c([nH]c5ccccc45)C3CC21   \n1        COC(=O)C1C(O)CCC2CN3CCc4c([nH]c5ccccc45)C3CC21   \n2     O[C@]12CO[C@H](c3cc4c(cc3)OCO4)[C@H]1CO[C@@H]2...   \n3     C/C=C(/C)C(=O)O[C@H]1[C@@H](OC(C)=O)c2c3oc(=O)...   \n4     CC(=O)N(O)CCCC1NC(=O)CNC(=O)C(CO)NC(=O)CNC(=O)...   \n...                                                 ...   \n4381  C=C1C(=O)O[C@H]2[C@H]1CC/C(C)=C/CC[C@@]1(C)O[C...   \n4382       C=C(C(=O)O)[C@@H]1CC=C(CCC(C)=O)[C@@H](C)CC1   \n4383              C=C1CCC2C(C)(C)CCCC2(C)C1CC/C(C)=C\\CO   \n4384      C=C1C(OC(C)=O)CCC2(C)CC3(OC)OC(=O)C(C)=C3CC12   \n4385     C=CC(C)(O)CC/C=C(/C)COC(=O)C(C)C1CCC(C)(C=C)O1   \n\n                                                 smarts  \\\n0     [#6]-[#8]-[#6](=[#8])-[#6]1-[#6](-[#8])-[#6]-[...   \n1     [#6]-[#8]-[#6](=[#8])-[#6]1-[#6](-[#8])-[#6]-[...   \n2     [#8]-[#6@]12-[#6]-[#8]-[#6@H](-[#6]3:[#6]:[#6]...   \n3     [#6]/[#6]=[#6](/[#6])-[#6](=[#8])-[#8]-[#6@H]1...   \n4     [#6]-[#6](=[#8])-[#7](-[#8])-[#6]-[#6]-[#6]-[#...   \n...                                                 ...   \n4381  [#6]=[#6]1-[#6](=[#8])-[#8]-[#6@H]2-[#6@H]-1-[...   \n4382  [#6]=[#6](-[#6](=[#8])-[#8])-[#6@@H]1-[#6]-[#6...   \n4383  [#6]=[#6]1-[#6]-[#6]-[#6]2-[#6](-[#6])(-[#6])-...   \n4384  [#6]=[#6]1-[#6](-[#8]-[#6](-[#6])=[#8])-[#6]-[...   \n4385  [#6]=[#6]-[#6](-[#6])(-[#8])-[#6]-[#6]/[#6]=[#...   \n\n                                                  inchi  \\\n0     InChI=1S/C21H26N2O3/c1-26-21(25)19-15-10-17-20...   \n1     InChI=1S/C21H26N2O3/c1-26-21(25)19-15-10-17-20...   \n2     InChI=1S/C20H18O7/c21-20-8-23-18(11-1-3-14-16(...   \n3     InChI=1S/C21H22O7/c1-6-11(2)20(24)27-19-18(25-...   \n4     InChI=1S/C28H47N9O13/c1-16(39)35(48)10-4-7-19-...   \n...                                                 ...   \n4381  InChI=1S/C15H20O3/c1-9-5-4-8-15(3)13(18-15)12-...   \n4382  InChI=1S/C15H22O3/c1-10-4-6-14(12(3)15(17)18)9...   \n4383  InChI=1S/C20H34O/c1-15(11-14-21)7-9-17-16(2)8-...   \n4384  InChI=1S/C18H24O5/c1-10-13-8-14-11(2)16(20)23-...   \n4385  InChI=1S/C20H32O4/c1-7-19(5,22)12-9-10-15(3)14...   \n\n                         inchikey  \\\n0     BLGXFZZNTVWLAY-UHFFFAOYSA-N   \n1     BLGXFZZNTVWLAY-UHFFFAOYSA-N   \n2     CAQZFLPWHBKTTR-WNISUXOKSA-N   \n3     XGPBRZDOJDLKOT-NXIDYTHLSA-N   \n4     JXJRJDNSPWNZOK-UHFFFAOYSA-N   \n...                           ...   \n4381  KTEXNACQROZXEV-SLXBATTESA-N   \n4382  NIQIMYXBAQAIAT-HZMBPMFUSA-N   \n4383  NERNKRPBSOBEHC-PTNGSMBKSA-N   \n4384  PAZOLAPVCOLMKJ-UHFFFAOYSA-N   \n4385  KQTYDMMVMJEHAN-GDNBJRDFSA-N   \n\n                                                  iupac  \\\n0     methyl 18-hydroxy-1,3,11,12,14,15,16,17,18,19,...   \n1     methyl 18-hydroxy-1,3,11,12,14,15,16,17,18,19,...   \n2     (3R,3aS,6S,6aR)-3,6-bis(1,3-benzodioxol-5-yl)-...   \n3     [(9S,10S)-10-acetyloxy-8,8-dimethyl-2-oxo-9,10...   \n4     N-[3-[5,8-bis[3-[acetyl(hydroxy)amino]propyl]-...   \n...                                                 ...   \n4381  (1S,2S,4R,7E,11S)-4,8-dimethyl-12-methylidene-...   \n4382  2-[(1S,5S)-5-methyl-4-(3-oxobutyl)cyclohept-3-...   \n4383  (Z)-5-(5,5,8a-trimethyl-2-methylidene-3,4,4a,6...   \n4384  (9a-methoxy-3,8a-dimethyl-5-methylidene-2-oxo-...   \n4385  [(2Z)-6-hydroxy-2,6-dimethylocta-2,7-dienyl] 2...   \n\n            unique_sample_id  ...          mcule_id nmrshiftdb2_id  \\\n0      pluskal_nih_01P_A2_id  ...  MCULE-4993391700     10022931.0   \n1      pluskal_nih_01P_A2_id  ...  MCULE-4993391700     10022931.0   \n2      pluskal_nih_01P_A2_id  ...               NaN     70128129.0   \n3      pluskal_nih_01P_A2_id  ...  MCULE-3729626550     60051272.0   \n4      pluskal_nih_01P_A2_id  ...  MCULE-1621140494     60054906.0   \n...                      ...  ...               ...            ...   \n4381  pluskal_nih_15P_G12_id  ...  MCULE-3930398727     60059910.0   \n4382  pluskal_nih_15P_G12_id  ...               NaN            NaN   \n4383  pluskal_nih_15P_G12_id  ...               NaN            NaN   \n4384  pluskal_nih_15P_G12_id  ...               NaN            NaN   \n4385  pluskal_nih_15P_G12_id  ...  MCULE-4567751544            NaN   \n\n      probes_and_drugs_id     rxnorm_id       schembl_id  unichem_id  \\\n0                PD045389           NaN    SCHEMBL564022    673503.0   \n1                PD045389           NaN    SCHEMBL564022    673503.0   \n2                PD087978           NaN    SCHEMBL662427    618423.0   \n3                PD078049           NaN              NaN   2076806.0   \n4                     NaN           NaN  SCHEMBL20203778  22643782.0   \n...                   ...           ...              ...         ...   \n4381             PD021966  PARTHENOLIDE   SCHEMBL5487404    183739.0   \n4382                  NaN           NaN              NaN  66366804.0   \n4383                  NaN           NaN              NaN  80453068.0   \n4384                  NaN           NaN              NaN  80453042.0   \n4385                  NaN           NaN              NaN  23847067.0   \n\n               zinc_id        unii  \\\n0                  NaN         NaN   \n1                  NaN         NaN   \n2     ZINC000005037439         NaN   \n3     ZINC000031156206         NaN   \n4                  NaN         NaN   \n...                ...         ...   \n4381  ZINC000030726283  2RDB26I5ZB   \n4382  ZINC000014513403         NaN   \n4383               NaN         NaN   \n4384               NaN         NaN   \n4385               NaN         NaN   \n\n                                            unichem_url  first_approval  \n0     https://www.ebi.ac.uk/unichem/compoundsources?...             NaN  \n1     https://www.ebi.ac.uk/unichem/compoundsources?...             NaN  \n2     https://www.ebi.ac.uk/unichem/compoundsources?...             NaN  \n3     https://www.ebi.ac.uk/unichem/compoundsources?...             NaN  \n4     https://www.ebi.ac.uk/unichem/compoundsources?...             NaN  \n...                                                 ...             ...  \n4381  https://www.ebi.ac.uk/unichem/compoundsources?...             NaN  \n4382  https://www.ebi.ac.uk/unichem/compoundsources?...             NaN  \n4383  https://www.ebi.ac.uk/unichem/compoundsources?...             NaN  \n4384  https://www.ebi.ac.uk/unichem/compoundsources?...             NaN  \n4385  https://www.ebi.ac.uk/unichem/compoundsources?...             NaN  \n\n[4386 rows x 48 columns]",
      "text/html": "<div>\n<style scoped>\n    .dataframe tbody tr th:only-of-type {\n        vertical-align: middle;\n    }\n\n    .dataframe tbody tr th {\n        vertical-align: top;\n    }\n\n    .dataframe thead th {\n        text-align: right;\n    }\n</style>\n<table border=\"1\" class=\"dataframe\">\n  <thead>\n    <tr style=\"text-align: right;\">\n      <th></th>\n      <th>monoisotopic_mass</th>\n      <th>formula</th>\n      <th>canonical_smiles</th>\n      <th>isomeric_smiles</th>\n      <th>smiles</th>\n      <th>smarts</th>\n      <th>inchi</th>\n      <th>inchikey</th>\n      <th>iupac</th>\n      <th>unique_sample_id</th>\n      <th>...</th>\n      <th>mcule_id</th>\n      <th>nmrshiftdb2_id</th>\n      <th>probes_and_drugs_id</th>\n      <th>rxnorm_id</th>\n      <th>schembl_id</th>\n      <th>unichem_id</th>\n      <th>zinc_id</th>\n      <th>unii</th>\n      <th>unichem_url</th>\n      <th>first_approval</th>\n    </tr>\n  </thead>\n  <tbody>\n    <tr>\n      <th>0</th>\n      <td>354.194343</td>\n      <td>C21H26N2O3</td>\n      <td>COC(=O)C1C(O)CCC2CN3CCc4c([nH]c5ccccc45)C3CC21</td>\n      <td>COC(=O)C1C(O)CCC2CN3CCc4c([nH]c5ccccc45)C3CC21</td>\n      <td>COC(=O)C1C(O)CCC2CN3CCc4c([nH]c5ccccc45)C3CC21</td>\n      <td>[#6]-[#8]-[#6](=[#8])-[#6]1-[#6](-[#8])-[#6]-[...</td>\n      <td>InChI=1S/C21H26N2O3/c1-26-21(25)19-15-10-17-20...</td>\n      <td>BLGXFZZNTVWLAY-UHFFFAOYSA-N</td>\n      <td>methyl 18-hydroxy-1,3,11,12,14,15,16,17,18,19,...</td>\n      <td>pluskal_nih_01P_A2_id</td>\n      <td>...</td>\n      <td>MCULE-4993391700</td>\n      <td>10022931.0</td>\n      <td>PD045389</td>\n      <td>NaN</td>\n      <td>SCHEMBL564022</td>\n      <td>673503.0</td>\n      <td>NaN</td>\n      <td>NaN</td>\n      <td>https://www.ebi.ac.uk/unichem/compoundsources?...</td>\n      <td>NaN</td>\n    </tr>\n    <tr>\n      <th>1</th>\n      <td>354.194343</td>\n      <td>C21H26N2O3</td>\n      <td>COC(=O)C1C(O)CCC2CN3CCc4c([nH]c5ccccc45)C3CC21</td>\n      <td>COC(=O)C1C(O)CCC2CN3CCc4c([nH]c5ccccc45)C3CC21</td>\n      <td>COC(=O)C1C(O)CCC2CN3CCc4c([nH]c5ccccc45)C3CC21</td>\n      <td>[#6]-[#8]-[#6](=[#8])-[#6]1-[#6](-[#8])-[#6]-[...</td>\n      <td>InChI=1S/C21H26N2O3/c1-26-21(25)19-15-10-17-20...</td>\n      <td>BLGXFZZNTVWLAY-UHFFFAOYSA-N</td>\n      <td>methyl 18-hydroxy-1,3,11,12,14,15,16,17,18,19,...</td>\n      <td>pluskal_nih_01P_A2_id</td>\n      <td>...</td>\n      <td>MCULE-4993391700</td>\n      <td>10022931.0</td>\n      <td>PD045389</td>\n      <td>NaN</td>\n      <td>SCHEMBL564022</td>\n      <td>673503.0</td>\n      <td>NaN</td>\n      <td>NaN</td>\n      <td>https://www.ebi.ac.uk/unichem/compoundsources?...</td>\n      <td>NaN</td>\n    </tr>\n    <tr>\n      <th>2</th>\n      <td>370.105253</td>\n      <td>C20H18O7</td>\n      <td>OC12COC(c3cc4c(cc3)OCO4)C1COC2c1cc2c(cc1)OCO2</td>\n      <td>O[C@]12CO[C@H](c3cc4c(cc3)OCO4)[C@H]1CO[C@@H]2...</td>\n      <td>O[C@]12CO[C@H](c3cc4c(cc3)OCO4)[C@H]1CO[C@@H]2...</td>\n      <td>[#8]-[#6@]12-[#6]-[#8]-[#6@H](-[#6]3:[#6]:[#6]...</td>\n      <td>InChI=1S/C20H18O7/c21-20-8-23-18(11-1-3-14-16(...</td>\n      <td>CAQZFLPWHBKTTR-WNISUXOKSA-N</td>\n      <td>(3R,3aS,6S,6aR)-3,6-bis(1,3-benzodioxol-5-yl)-...</td>\n      <td>pluskal_nih_01P_A2_id</td>\n      <td>...</td>\n      <td>NaN</td>\n      <td>70128129.0</td>\n      <td>PD087978</td>\n      <td>NaN</td>\n      <td>SCHEMBL662427</td>\n      <td>618423.0</td>\n      <td>ZINC000005037439</td>\n      <td>NaN</td>\n      <td>https://www.ebi.ac.uk/unichem/compoundsources?...</td>\n      <td>NaN</td>\n    </tr>\n    <tr>\n      <th>3</th>\n      <td>386.136553</td>\n      <td>C21H22O7</td>\n      <td>CC=C(C)C(=O)OC1C(OC(C)=O)c2c3oc(=O)ccc3ccc2OC1...</td>\n      <td>C/C=C(/C)C(=O)O[C@H]1[C@@H](OC(C)=O)c2c3oc(=O)...</td>\n      <td>C/C=C(/C)C(=O)O[C@H]1[C@@H](OC(C)=O)c2c3oc(=O)...</td>\n      <td>[#6]/[#6]=[#6](/[#6])-[#6](=[#8])-[#8]-[#6@H]1...</td>\n      <td>InChI=1S/C21H22O7/c1-6-11(2)20(24)27-19-18(25-...</td>\n      <td>XGPBRZDOJDLKOT-NXIDYTHLSA-N</td>\n      <td>[(9S,10S)-10-acetyloxy-8,8-dimethyl-2-oxo-9,10...</td>\n      <td>pluskal_nih_01P_A2_id</td>\n      <td>...</td>\n      <td>MCULE-3729626550</td>\n      <td>60051272.0</td>\n      <td>PD078049</td>\n      <td>NaN</td>\n      <td>NaN</td>\n      <td>2076806.0</td>\n      <td>ZINC000031156206</td>\n      <td>NaN</td>\n      <td>https://www.ebi.ac.uk/unichem/compoundsources?...</td>\n      <td>NaN</td>\n    </tr>\n    <tr>\n      <th>4</th>\n      <td>717.329333</td>\n      <td>C28H47N9O13</td>\n      <td>CC(=O)N(O)CCCC1NC(=O)CNC(=O)C(CO)NC(=O)CNC(=O)...</td>\n      <td>CC(=O)N(O)CCCC1NC(=O)CNC(=O)C(CO)NC(=O)CNC(=O)...</td>\n      <td>CC(=O)N(O)CCCC1NC(=O)CNC(=O)C(CO)NC(=O)CNC(=O)...</td>\n      <td>[#6]-[#6](=[#8])-[#7](-[#8])-[#6]-[#6]-[#6]-[#...</td>\n      <td>InChI=1S/C28H47N9O13/c1-16(39)35(48)10-4-7-19-...</td>\n      <td>JXJRJDNSPWNZOK-UHFFFAOYSA-N</td>\n      <td>N-[3-[5,8-bis[3-[acetyl(hydroxy)amino]propyl]-...</td>\n      <td>pluskal_nih_01P_A2_id</td>\n      <td>...</td>\n      <td>MCULE-1621140494</td>\n      <td>60054906.0</td>\n      <td>NaN</td>\n      <td>NaN</td>\n      <td>SCHEMBL20203778</td>\n      <td>22643782.0</td>\n      <td>NaN</td>\n      <td>NaN</td>\n      <td>https://www.ebi.ac.uk/unichem/compoundsources?...</td>\n      <td>NaN</td>\n    </tr>\n    <tr>\n      <th>...</th>\n      <td>...</td>\n      <td>...</td>\n      <td>...</td>\n      <td>...</td>\n      <td>...</td>\n      <td>...</td>\n      <td>...</td>\n      <td>...</td>\n      <td>...</td>\n      <td>...</td>\n      <td>...</td>\n      <td>...</td>\n      <td>...</td>\n      <td>...</td>\n      <td>...</td>\n      <td>...</td>\n      <td>...</td>\n      <td>...</td>\n      <td>...</td>\n      <td>...</td>\n      <td>...</td>\n    </tr>\n    <tr>\n      <th>4381</th>\n      <td>248.141244</td>\n      <td>C15H20O3</td>\n      <td>C=C1C(=O)OC2C1CCC(C)=CCCC1(C)OC21</td>\n      <td>C=C1C(=O)O[C@H]2[C@H]1CC/C(C)=C/CC[C@@]1(C)O[C...</td>\n      <td>C=C1C(=O)O[C@H]2[C@H]1CC/C(C)=C/CC[C@@]1(C)O[C...</td>\n      <td>[#6]=[#6]1-[#6](=[#8])-[#8]-[#6@H]2-[#6@H]-1-[...</td>\n      <td>InChI=1S/C15H20O3/c1-9-5-4-8-15(3)13(18-15)12-...</td>\n      <td>KTEXNACQROZXEV-SLXBATTESA-N</td>\n      <td>(1S,2S,4R,7E,11S)-4,8-dimethyl-12-methylidene-...</td>\n      <td>pluskal_nih_15P_G12_id</td>\n      <td>...</td>\n      <td>MCULE-3930398727</td>\n      <td>60059910.0</td>\n      <td>PD021966</td>\n      <td>PARTHENOLIDE</td>\n      <td>SCHEMBL5487404</td>\n      <td>183739.0</td>\n      <td>ZINC000030726283</td>\n      <td>2RDB26I5ZB</td>\n      <td>https://www.ebi.ac.uk/unichem/compoundsources?...</td>\n      <td>NaN</td>\n    </tr>\n    <tr>\n      <th>4382</th>\n      <td>250.156895</td>\n      <td>C15H22O3</td>\n      <td>C=C(C(=O)O)C1CC=C(CCC(C)=O)C(C)CC1</td>\n      <td>C=C(C(=O)O)[C@@H]1CC=C(CCC(C)=O)[C@@H](C)CC1</td>\n      <td>C=C(C(=O)O)[C@@H]1CC=C(CCC(C)=O)[C@@H](C)CC1</td>\n      <td>[#6]=[#6](-[#6](=[#8])-[#8])-[#6@@H]1-[#6]-[#6...</td>\n      <td>InChI=1S/C15H22O3/c1-10-4-6-14(12(3)15(17)18)9...</td>\n      <td>NIQIMYXBAQAIAT-HZMBPMFUSA-N</td>\n      <td>2-[(1S,5S)-5-methyl-4-(3-oxobutyl)cyclohept-3-...</td>\n      <td>pluskal_nih_15P_G12_id</td>\n      <td>...</td>\n      <td>NaN</td>\n      <td>NaN</td>\n      <td>NaN</td>\n      <td>NaN</td>\n      <td>NaN</td>\n      <td>66366804.0</td>\n      <td>ZINC000014513403</td>\n      <td>NaN</td>\n      <td>https://www.ebi.ac.uk/unichem/compoundsources?...</td>\n      <td>NaN</td>\n    </tr>\n    <tr>\n      <th>4383</th>\n      <td>290.260966</td>\n      <td>C20H34O</td>\n      <td>C=C1CCC2C(C)(C)CCCC2(C)C1CCC(C)=CCO</td>\n      <td>C=C1CCC2C(C)(C)CCCC2(C)C1CC/C(C)=C\\CO</td>\n      <td>C=C1CCC2C(C)(C)CCCC2(C)C1CC/C(C)=C\\CO</td>\n      <td>[#6]=[#6]1-[#6]-[#6]-[#6]2-[#6](-[#6])(-[#6])-...</td>\n      <td>InChI=1S/C20H34O/c1-15(11-14-21)7-9-17-16(2)8-...</td>\n      <td>NERNKRPBSOBEHC-PTNGSMBKSA-N</td>\n      <td>(Z)-5-(5,5,8a-trimethyl-2-methylidene-3,4,4a,6...</td>\n      <td>pluskal_nih_15P_G12_id</td>\n      <td>...</td>\n      <td>NaN</td>\n      <td>NaN</td>\n      <td>NaN</td>\n      <td>NaN</td>\n      <td>NaN</td>\n      <td>80453068.0</td>\n      <td>NaN</td>\n      <td>NaN</td>\n      <td>https://www.ebi.ac.uk/unichem/compoundsources?...</td>\n      <td>NaN</td>\n    </tr>\n    <tr>\n      <th>4384</th>\n      <td>320.162374</td>\n      <td>C18H24O5</td>\n      <td>C=C1C(OC(C)=O)CCC2(C)CC3(OC)OC(=O)C(C)=C3CC12</td>\n      <td>C=C1C(OC(C)=O)CCC2(C)CC3(OC)OC(=O)C(C)=C3CC12</td>\n      <td>C=C1C(OC(C)=O)CCC2(C)CC3(OC)OC(=O)C(C)=C3CC12</td>\n      <td>[#6]=[#6]1-[#6](-[#8]-[#6](-[#6])=[#8])-[#6]-[...</td>\n      <td>InChI=1S/C18H24O5/c1-10-13-8-14-11(2)16(20)23-...</td>\n      <td>PAZOLAPVCOLMKJ-UHFFFAOYSA-N</td>\n      <td>(9a-methoxy-3,8a-dimethyl-5-methylidene-2-oxo-...</td>\n      <td>pluskal_nih_15P_G12_id</td>\n      <td>...</td>\n      <td>NaN</td>\n      <td>NaN</td>\n      <td>NaN</td>\n      <td>NaN</td>\n      <td>NaN</td>\n      <td>80453042.0</td>\n      <td>NaN</td>\n      <td>NaN</td>\n      <td>https://www.ebi.ac.uk/unichem/compoundsources?...</td>\n      <td>NaN</td>\n    </tr>\n    <tr>\n      <th>4385</th>\n      <td>336.230060</td>\n      <td>C20H32O4</td>\n      <td>C=CC(C)(O)CCC=C(C)COC(=O)C(C)C1CCC(C)(C=C)O1</td>\n      <td>C=CC(C)(O)CC/C=C(/C)COC(=O)C(C)C1CCC(C)(C=C)O1</td>\n      <td>C=CC(C)(O)CC/C=C(/C)COC(=O)C(C)C1CCC(C)(C=C)O1</td>\n      <td>[#6]=[#6]-[#6](-[#6])(-[#8])-[#6]-[#6]/[#6]=[#...</td>\n      <td>InChI=1S/C20H32O4/c1-7-19(5,22)12-9-10-15(3)14...</td>\n      <td>KQTYDMMVMJEHAN-GDNBJRDFSA-N</td>\n      <td>[(2Z)-6-hydroxy-2,6-dimethylocta-2,7-dienyl] 2...</td>\n      <td>pluskal_nih_15P_G12_id</td>\n      <td>...</td>\n      <td>MCULE-4567751544</td>\n      <td>NaN</td>\n      <td>NaN</td>\n      <td>NaN</td>\n      <td>NaN</td>\n      <td>23847067.0</td>\n      <td>NaN</td>\n      <td>NaN</td>\n      <td>https://www.ebi.ac.uk/unichem/compoundsources?...</td>\n      <td>NaN</td>\n    </tr>\n  </tbody>\n</table>\n<p>4386 rows × 48 columns</p>\n</div>"
     },
     "execution_count": 20,
     "metadata": {},
     "output_type": "execute_result"
    }
   ],
   "source": [
    "df = pu.read_dataframe(\"../metadata_validator/metadata/nih_main_columns.tsv\")\n",
    "df"
   ],
   "metadata": {
    "collapsed": false,
    "ExecuteTime": {
     "end_time": "2023-10-31T09:38:36.212111600Z",
     "start_time": "2023-10-31T09:38:36.120620600Z"
    }
   },
   "id": "e57ea488f79c8d77"
  },
  {
   "cell_type": "code",
   "execution_count": 11,
   "outputs": [],
   "source": [
    "cols = [\n",
    "    #numbers\n",
    "    \"monoisotopic_mass\",\n",
    "    \n",
    "    \"formula\",  # parse with formula parser\n",
    "    \"canonical_smiles\",  # can be parsed with rdkit\n",
    "    \"isomeric_smiles\",  # can be parsed with rdkit\n",
    "    \"smiles\",  # can be parsed with rdkit\n",
    "    \"smarts\",  # can be parsed with rdkit\n",
    "    \"inchi\",  # can be parsed with rdkit\n",
    "    \"inchikey\",  # XXXXXXXXXXXXXX-YYYYYYYYFV-P\n",
    "    \"iupac\",  # maybe there is a validator\n",
    "    \n",
    "    \"unique_sample_id\",  # should not end or start with a number - this might make issues when using as substring\n",
    "    # special format str\n",
    "    \"synonyms\",  # ['name', 'name2']\n",
    "    \"cas\",  # 329-65-7\n",
    "    \"clinical_phase\",  # int or str? 0 to 4\n",
    "    \n",
    "    # str\n",
    "    \"clinical_phase_description\",\n",
    "    \"compound_name\",\n",
    "    \"input_name\",\n",
    "    \"indication\",\n",
    "    \"structure_source\",\n",
    "    \"pubchem_logp\",\n",
    "    \"logp\",\n",
    "    \"molecular_species\",\n",
    "    \"natural_product\",\n",
    "    \n",
    "    # boolean\n",
    "    \"withdrawn\",\n",
    "    \"oral\",\n",
    "    \"parenteral\",\n",
    "    \"prodrug\",\n",
    "    \n",
    "    # IDs may contain special format\n",
    "    # ids may have a prefix or other format\n",
    "    \"pubchem_cid\",\n",
    "    \"input_pubchem_cid\",\n",
    "    \"comptox_id\",\n",
    "    \"drugbank_id\",\n",
    "    \"drugcentral_id\",\n",
    "    \"drugcentral_parent_id\",\n",
    "    \"chebi_id\",\n",
    "    \"chembl_id\",\n",
    "    \"gtopdb_id\",\n",
    "    \"hmdb_id\",\n",
    "    \"kegg_ligand_id\",\n",
    "    \"lincs_id\",\n",
    "    \"mcule_id\",\n",
    "    \"nmrshiftdb2_id\",\n",
    "    \"probes_and_drugs_id\",\n",
    "    \"rxnorm_id\",\n",
    "    \"schembl_id\",\n",
    "    \"unichem_id\",\n",
    "    \"zinc_id\",\n",
    "    \"unii\",\n",
    "    # URL\n",
    "    \"unichem_url\",\n",
    "    \n",
    "    # date\n",
    "    \"first_approval\",  \n",
    "    \n",
    "    # classyfire\n",
    "    # \"classyfire_alternative_parents\",\n",
    "    # \"classyfire_ancestors\",\n",
    "    # \"classyfire_class\",\n",
    "    # \"classyfire_classification_version\",\n",
    "    # \"classyfire_description\",\n",
    "    # \"classyfire_direct_parent\",\n",
    "    # \"classyfire_external_descriptors\",\n",
    "    # \"classyfire_intermediate_nodes\",\n",
    "    # \"classyfire_kingdom\",\n",
    "    # \"classyfire_molecular_framework\",\n",
    "    # \"classyfire_predicted_chebi_terms\",\n",
    "    # \"classyfire_predicted_lipidmaps_terms\",\n",
    "    # \"classyfire_subclass\",\n",
    "    # \"classyfire_substituents\",\n",
    "    # \"classyfire_superclass\",\n",
    "    # # drugbank\n",
    "    # \"drugbank_absorption\",\n",
    "    # \"drugbank_approved\",\n",
    "    # \"drugbank_approved_number\",\n",
    "    # \"drugbank_atc_code\",\n",
    "    # \"drugbank_clearance\",\n",
    "    # \"drugbank_description\",\n",
    "    # \"drugbank_food_interaction\",\n",
    "    # \"drugbank_half_life\",\n",
    "    # \"drugbank_indication\",\n",
    "    # \"drugbank_mechanism_of_action\",\n",
    "    # \"drugbank_metabolism\",\n",
    "    # \"drugbank_mode_of_action\",\n",
    "    # \"drugbank_pharmacodynamics\",\n",
    "    # \"drugbank_route_of_elimination\",\n",
    "    # \"drugbank_targets\",\n",
    "    # \"drugbank_toxicity\",\n",
    "    # \"drugbank_type\",\n",
    "    # # drugcentral\n",
    "    # \"drugcentral_administration\",\n",
    "    # \"drugcentral_administration_number\",\n",
    "    # \"drugcentral_atc\",\n",
    "    # \"drugcentral_cas\",\n",
    "    # \"drugcentral_compound_name\",\n",
    "    # \"drugcentral_database_id\",\n",
    "    # \"drugcentral_date_of_approval\",\n",
    "    # \"drugcentral_dosage\",\n",
    "    # \"drugcentral_inchi\",\n",
    "    # \"drugcentral_inchikey\",\n",
    "    # \"drugcentral_indication; contraindication; off_label\",\n",
    "    # \"drugcentral_mrdef\",\n",
    "    # \"drugcentral_orphan\",\n",
    "    # \"drugcentral_pharma_class\",\n",
    "    # \"drugcentral_pharma_type\",\n",
    "    # \"drugcentral_smiles\",\n",
    "    # \"drugcentral_status\",\n",
    "    # \"drugcentral_stem\",\n",
    "    # \"drugcentral_stem_definition\",\n",
    "    # \"drugcentral_strength\",\n",
    "    # \"drugcentral_synonyms\",\n",
    "    # \"drugcentral_who_defined_daily_dose\",\n",
    "    # #lotus\n",
    "    # \"lotus_doi\",\n",
    "    # \"lotus_ncbi_id\",\n",
    "    # \"lotus_parent_ncbi_id\",\n",
    "    # \"lotus_parent_taxon\",\n",
    "    # \"lotus_parent_taxon_name\",\n",
    "    # \"lotus_parent_taxon_rank_label\",\n",
    "    # \"lotus_reference\",\n",
    "    # \"lotus_structure\",\n",
    "    # \"lotus_structure_label\",\n",
    "    # \"lotus_taxon\",\n",
    "    # \"lotus_taxon_name\",\n",
    "    # \"lotus_taxon_rank_label\",\n",
    "    # #npatlas\n",
    "    # \"npatlas_npaid\",\n",
    "    # \"npatlas_cluster_id\",\n",
    "    # \"npatlas_node_id\",\n",
    "    # \"npatlas_num_entries\",\n",
    "    # \"npatlas_original_doi\",\n",
    "    # \"npatlas_original_name\",\n",
    "    # \"npatlas_original_organism\",\n",
    "    # \"npatlas_original_type\",\n",
    "    # \"npclassifier_class_results\",\n",
    "    # \"npclassifier_isglycoside\",\n",
    "    # \"npclassifier_pathway_results\",\n",
    "    # \"npclassifier_superclass_results\",\n",
    "]"
   ],
   "metadata": {
    "collapsed": false,
    "ExecuteTime": {
     "end_time": "2023-10-31T09:30:01.486352600Z",
     "start_time": "2023-10-31T09:30:01.479351800Z"
    }
   },
   "id": "c0d2e1f22148b31f"
  },
  {
   "cell_type": "code",
   "execution_count": 13,
   "outputs": [],
   "source": [],
   "metadata": {
    "collapsed": false,
    "ExecuteTime": {
     "end_time": "2023-10-31T09:30:48.511747Z",
     "start_time": "2023-10-31T09:30:48.370746600Z"
    }
   },
   "id": "2f4f479990ca19d8"
  },
  {
   "cell_type": "code",
   "execution_count": null,
   "outputs": [],
   "source": [],
   "metadata": {
    "collapsed": false
   },
   "id": "a1d9a3282ba70d46"
  }
 ],
 "metadata": {
  "kernelspec": {
   "display_name": "Python 3",
   "language": "python",
   "name": "python3"
  },
  "language_info": {
   "codemirror_mode": {
    "name": "ipython",
    "version": 2
   },
   "file_extension": ".py",
   "mimetype": "text/x-python",
   "name": "python",
   "nbconvert_exporter": "python",
   "pygments_lexer": "ipython2",
   "version": "2.7.6"
  }
 },
 "nbformat": 4,
 "nbformat_minor": 5
}
